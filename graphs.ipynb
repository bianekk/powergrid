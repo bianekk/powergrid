{
 "cells": [
  {
   "cell_type": "code",
   "execution_count": 1,
   "id": "9545c64e",
   "metadata": {},
   "outputs": [],
   "source": [
    "import pandas as pd\n",
    "import networkx as nx\n",
    "import plotly.express as px"
   ]
  },
  {
   "cell_type": "code",
   "execution_count": 2,
   "id": "308175a9",
   "metadata": {},
   "outputs": [],
   "source": [
    "df_links = pd.read_excel(\"scigrid-conference-eu-data-only/links_eu_power_160718.csvdata.xlsx\")\n",
    "df_nodes = pd.read_excel(\"scigrid-conference-eu-data-only/vertices_eu_power_160718.csvdata.xlsx\")"
   ]
  },
  {
   "cell_type": "markdown",
   "id": "261b43c2",
   "metadata": {},
   "source": [
    "## Wykresy na mapie"
   ]
  },
  {
   "cell_type": "code",
   "execution_count": 5,
   "id": "0284c0d5",
   "metadata": {},
   "outputs": [
    {
     "name": "stdout",
     "output_type": "stream",
     "text": [
      "   v_id        lon        lat         typ        voltage frequency  \\\n",
      "0     1   9.522576  52.360409  substation  220000;110000        50   \n",
      "1     2   9.113210  52.543853  substation         220000        50   \n",
      "2     3   9.389745  52.026313  substation  380000;110000        50   \n",
      "3     4   9.125266  52.538264  substation  380000;220000        50   \n",
      "4     5  10.366275  52.284647  substation  380000;220000        50   \n",
      "\n",
      "                                 name         operator  ref  \\\n",
      "0                       Hannover/West  TenneT;EON_Netz  NaN   \n",
      "1  Umspannwerk Kraftwerk Robert Frank           TenneT  NaN   \n",
      "2          UW Grohnde 380 kV / 110 kV           TenneT  NaN   \n",
      "3                        Landesbergen  TenneT TSO GmbH  NaN   \n",
      "4                               Wahle           TenneT  NaN   \n",
      "\n",
      "                                       wkt_srid_4326  \n",
      "0  SRID=4326;POINT(9.52257601112577 52.3604090734...  \n",
      "1  SRID=4326;POINT(9.11321011483187 52.5438533448...  \n",
      "2  SRID=4326;POINT(9.38974515063535 52.0263130791...  \n",
      "3  SRID=4326;POINT(9.12526574244048 52.5382641233...  \n",
      "4  SRID=4326;POINT(10.366274939217 52.2846467643429)  \n",
      "   l_id  v_id_1  v_id_2  voltage  cables  wires  frequency  \\\n",
      "0     1       1       2   220000     3.0    2.0       50.0   \n",
      "1     2       3       4   380000     3.0    4.0       50.0   \n",
      "2     3       5       6   220000     3.0    2.0       50.0   \n",
      "3     4       7       5   380000     3.0    4.0       50.0   \n",
      "4     5       8       9   380000     6.0    4.0       50.0   \n",
      "\n",
      "                        name operator   ref  length_m  r_ohmkm  x_ohmkm  \\\n",
      "0               Leitung 2016   TenneT  2016     43396   0.0800    0.320   \n",
      "1               Leitung 3011   TenneT   NaN     72714   0.0250    0.250   \n",
      "2               Leitung 2024   TenneT     1     33954   0.0800    0.320   \n",
      "3               Leitung 3026   TenneT  3026     33483   0.0250    0.250   \n",
      "4  KKW Krümmel - UW Lüneburg   TenneT   NaN     28172   0.0125    0.125   \n",
      "\n",
      "   c_nfkm  i_th_max_a  from_relation  \\\n",
      "0    11.5         1.3          67129   \n",
      "1    13.7         2.6          67131   \n",
      "2    11.5         1.3          67151   \n",
      "3    13.7         2.6          67153   \n",
      "4    27.4         5.2          67585   \n",
      "\n",
      "                                       wkt_srid_4326  \n",
      "0  SRID=4326;LINESTRING(9.52257601112577 52.36040...  \n",
      "1  SRID=4326;LINESTRING(9.38974515063535 52.02631...  \n",
      "2  SRID=4326;LINESTRING(10.366274939217 52.284646...  \n",
      "3  SRID=4326;LINESTRING(9.9171797569037 52.278168...  \n",
      "4  SRID=4326;LINESTRING(10.4149924241538 53.41260...  \n"
     ]
    }
   ],
   "source": [
    "df_nodes.drop(['frequency', 'ref', '')\n",
    "print(df_nodes.head())\n",
    "print(df_links.head())"
   ]
  },
  {
   "cell_type": "code",
   "execution_count": null,
   "id": "06b58fbb",
   "metadata": {},
   "outputs": [],
   "source": []
  }
 ],
 "metadata": {
  "kernelspec": {
   "display_name": "Python 3 (ipykernel)",
   "language": "python",
   "name": "python3"
  },
  "language_info": {
   "codemirror_mode": {
    "name": "ipython",
    "version": 3
   },
   "file_extension": ".py",
   "mimetype": "text/x-python",
   "name": "python",
   "nbconvert_exporter": "python",
   "pygments_lexer": "ipython3",
   "version": "3.8.0"
  }
 },
 "nbformat": 4,
 "nbformat_minor": 5
}
